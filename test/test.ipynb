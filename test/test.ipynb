{
 "cells": [
  {
   "cell_type": "code",
   "execution_count": 3,
   "source": [
    "# 测试\n",
    "using BenchmarkTools\n",
    "delta(i,j)= ==(i,j)\n",
    "f(i,j)=delta(i,j)+i-j+i*j"
   ],
   "outputs": [
    {
     "output_type": "execute_result",
     "data": {
      "text/plain": [
       "f (generic function with 1 method)"
      ]
     },
     "metadata": {},
     "execution_count": 3
    }
   ],
   "metadata": {}
  },
  {
   "cell_type": "code",
   "execution_count": 4,
   "source": [
    "@btime fmatrix=[f(i,j) for i=1:10, j=1:10]"
   ],
   "outputs": [
    {
     "output_type": "stream",
     "name": "stdout",
     "text": [
      "  116.977 ns (1 allocation: 896 bytes)\n"
     ]
    },
    {
     "output_type": "execute_result",
     "data": {
      "text/plain": [
       "10×10 Matrix{Int64}:\n",
       "  2   1   1   1   1   1   1   1   1    1\n",
       "  3   5   5   6   7   8   9  10  11   12\n",
       "  5   7  10  11  13  15  17  19  21   23\n",
       "  7  10  13  17  19  22  25  28  31   34\n",
       "  9  13  17  21  26  29  33  37  41   45\n",
       " 11  16  21  26  31  37  41  46  51   56\n",
       " 13  19  25  31  37  43  50  55  61   67\n",
       " 15  22  29  36  43  50  57  65  71   78\n",
       " 17  25  33  41  49  57  65  73  82   89\n",
       " 19  28  37  46  55  64  73  82  91  101"
      ]
     },
     "metadata": {},
     "execution_count": 4
    }
   ],
   "metadata": {}
  },
  {
   "cell_type": "code",
   "execution_count": 8,
   "source": [
    "fm=Array{Int}(undef,10,10)\n",
    "@btime for i=1:10, j=1:10\n",
    "    fm[i,j]=f(i,j)\n",
    "end\n",
    "fm"
   ],
   "outputs": [
    {
     "output_type": "stream",
     "name": "stdout",
     "text": [
      "  2.014 μs (0 allocations: 0 bytes)\n"
     ]
    },
    {
     "output_type": "execute_result",
     "data": {
      "text/plain": [
       "10×10 Matrix{Int64}:\n",
       "  2   1   1   1   1   1   1   1   1    1\n",
       "  3   5   5   6   7   8   9  10  11   12\n",
       "  5   7  10  11  13  15  17  19  21   23\n",
       "  7  10  13  17  19  22  25  28  31   34\n",
       "  9  13  17  21  26  29  33  37  41   45\n",
       " 11  16  21  26  31  37  41  46  51   56\n",
       " 13  19  25  31  37  43  50  55  61   67\n",
       " 15  22  29  36  43  50  57  65  71   78\n",
       " 17  25  33  41  49  57  65  73  82   89\n",
       " 19  28  37  46  55  64  73  82  91  101"
      ]
     },
     "metadata": {},
     "execution_count": 8
    }
   ],
   "metadata": {}
  }
 ],
 "metadata": {
  "orig_nbformat": 4,
  "language_info": {
   "file_extension": ".jl",
   "name": "julia",
   "mimetype": "application/julia",
   "version": "1.6.0"
  },
  "kernelspec": {
   "name": "julia-1.6",
   "display_name": "Julia 1.6.0-beta1",
   "language": "julia"
  }
 },
 "nbformat": 4,
 "nbformat_minor": 2
}